{
 "cells": [
  {
   "cell_type": "markdown",
   "id": "unexpected-restoration",
   "metadata": {},
   "source": [
    "# CoinGecko REST API: extracting crypto currency data"
   ]
  },
  {
   "cell_type": "markdown",
   "id": "5d93dfe3",
   "metadata": {},
   "source": [
    "## Libraries and settings"
   ]
  },
  {
   "cell_type": "code",
   "execution_count": 1,
   "id": "e086cd70",
   "metadata": {},
   "outputs": [
    {
     "name": "stdout",
     "output_type": "stream",
     "text": [
      "Current working directory: /workspaces/data_ingestion/03_CoinGecko_WebAPI\n"
     ]
    }
   ],
   "source": [
    "# Libraries\n",
    "import os\n",
    "import locale\n",
    "import pandas as pd\n",
    "locale.setlocale(locale.LC_ALL,\"\")\n",
    "\n",
    "import matplotlib.pyplot as plt\n",
    "\n",
    "# Define settings for graphics\n",
    "# plt.style.use('dark_background')\n",
    "\n",
    "from pycoingecko import CoinGeckoAPI\n",
    "cg = CoinGeckoAPI()\n",
    "\n",
    "# Settings\n",
    "import warnings\n",
    "warnings.filterwarnings(\"ignore\")\n",
    "\n",
    "# Current working directory\n",
    "print(f'Current working directory: {os.getcwd()}')"
   ]
  },
  {
   "cell_type": "markdown",
   "id": "f52ba0c0",
   "metadata": {},
   "source": [
    "## Get data"
   ]
  },
  {
   "cell_type": "code",
   "execution_count": 2,
   "id": "administrative-robin",
   "metadata": {},
   "outputs": [
    {
     "data": {
      "text/plain": [
       "{'bitcoin': {'usd': 79406}}"
      ]
     },
     "execution_count": 2,
     "metadata": {},
     "output_type": "execute_result"
    }
   ],
   "source": [
    "# Simple price endpoint with the required parameters\n",
    "cg.get_price(ids='bitcoin', vs_currencies='usd')"
   ]
  },
  {
   "cell_type": "code",
   "execution_count": 3,
   "id": "above-train",
   "metadata": {},
   "outputs": [
    {
     "data": {
      "text/plain": [
       "{'bitcoin': {'usd': 79468},\n",
       " 'dogecoin': {'usd': 0.242762},\n",
       " 'ethereum': {'usd': 3198.36},\n",
       " 'near': {'usd': 4.73}}"
      ]
     },
     "execution_count": 3,
     "metadata": {},
     "output_type": "execute_result"
    }
   ],
   "source": [
    "# Multiple arguments (USD)\n",
    "cg.get_price(ids=['bitcoin', 'near', 'ethereum', 'dogecoin'], vs_currencies='usd')"
   ]
  },
  {
   "cell_type": "code",
   "execution_count": 4,
   "id": "southeast-checklist",
   "metadata": {},
   "outputs": [
    {
     "data": {
      "text/plain": [
       "{'bitcoin': {'usd': 79467, 'eur': 74140},\n",
       " 'dogecoin': {'usd': 0.242762, 'eur': 0.226489},\n",
       " 'ethereum': {'usd': 3198.24, 'eur': 2983.85},\n",
       " 'near': {'usd': 4.73, 'eur': 4.41}}"
      ]
     },
     "execution_count": 4,
     "metadata": {},
     "output_type": "execute_result"
    }
   ],
   "source": [
    "# Multiple arguments (USD & EUR)\n",
    "cg.get_price(ids=['bitcoin', 'near', 'ethereum, dogecoin'], vs_currencies=['usd', 'eur'])"
   ]
  },
  {
   "cell_type": "code",
   "execution_count": 5,
   "id": "single-sensitivity",
   "metadata": {},
   "outputs": [
    {
     "data": {
      "text/plain": [
       "{'bitcoin': {'usd': 79372,\n",
       "  'usd_market_cap': 1572481814823.9575,\n",
       "  'usd_24h_vol': 54419759255.00391,\n",
       "  'usd_24h_change': 3.842339587335931,\n",
       "  'last_updated_at': 1731241781},\n",
       " 'dogecoin': {'usd': 0.242443,\n",
       "  'usd_market_cap': 35718108366.723015,\n",
       "  'usd_24h_vol': 8038494494.862506,\n",
       "  'usd_24h_change': 18.178821512553753,\n",
       "  'last_updated_at': 1731241783},\n",
       " 'ethereum': {'usd': 3194.16,\n",
       "  'usd_market_cap': 385343655460.2956,\n",
       "  'usd_24h_vol': 33269760231.215504,\n",
       "  'usd_24h_change': 5.035622111844476,\n",
       "  'last_updated_at': 1731241784},\n",
       " 'near': {'usd': 4.73,\n",
       "  'usd_market_cap': 5723997545.54375,\n",
       "  'usd_24h_vol': 653137852.7721941,\n",
       "  'usd_24h_change': 7.398644314205451,\n",
       "  'last_updated_at': 1731241785}}"
      ]
     },
     "execution_count": 5,
     "metadata": {},
     "output_type": "execute_result"
    }
   ],
   "source": [
    "# Pass optional parameters as defined in the API doc (https://www.coingecko.com/api/docs/v3)\n",
    "data = cg.get_price( ids='bitcoin, near, ethereum, dogecoin', \n",
    "                     vs_currencies='usd', \n",
    "                     include_market_cap='true', \n",
    "                     include_24hr_vol='true', \n",
    "                     include_24hr_change='true', \n",
    "                     include_last_updated_at='true')\n",
    "data"
   ]
  },
  {
   "cell_type": "code",
   "execution_count": 6,
   "id": "negative-allah",
   "metadata": {},
   "outputs": [
    {
     "name": "stdout",
     "output_type": "stream",
     "text": [
      "['bitcoin', 'dogecoin', 'ethereum', 'near']\n",
      "----------------\n",
      "bitcoin\n",
      "79372\n"
     ]
    }
   ],
   "source": [
    "# Extract single values\n",
    "names = list(data.keys())\n",
    "print(names)\n",
    "print(\"----------------\")\n",
    "\n",
    "# Price of the first element in list\n",
    "print(names[0])\n",
    "print(data[names[0]][\"usd\"])"
   ]
  },
  {
   "cell_type": "markdown",
   "id": "5cb610cf",
   "metadata": {},
   "source": [
    "## Extract and plot data"
   ]
  },
  {
   "cell_type": "code",
   "execution_count": 7,
   "id": "surgical-germany",
   "metadata": {},
   "outputs": [
    {
     "name": "stdout",
     "output_type": "stream",
     "text": [
      "       Name     Value\n",
      "0   bitcoin  79372.00\n",
      "2  ethereum   3194.16\n",
      "3      near      4.73\n",
      "1  dogecoin      0.24\n"
     ]
    }
   ],
   "source": [
    "# Keys from dictionary\n",
    "names = list(data.keys())\n",
    "\n",
    "# Get values from dictionary and format to 2 decimal places\n",
    "values = []\n",
    "for i in range(len(names)):\n",
    "    vals = data[names[i]][\"usd\"]\n",
    "    formatted_val = f'{vals:.2f}'\n",
    "    values.append(formatted_val)\n",
    "\n",
    "# Create DataFrame\n",
    "df = pd.DataFrame({\n",
    "    'Name': names,\n",
    "    'Value': values})\n",
    "\n",
    "# Convert 'Value' column to numeric\n",
    "df['Value'] = pd.to_numeric(df['Value'])\n",
    "\n",
    "# Sort DataFrame by 'Value' in descending order\n",
    "df = df.sort_values(by='Value', ascending=False)\n",
    "\n",
    "print(df)"
   ]
  },
  {
   "cell_type": "code",
   "execution_count": 8,
   "id": "juvenile-huntington",
   "metadata": {},
   "outputs": [
    {
     "data": {
      "image/png": "[encoded data removed]",
      "text/plain": [
       "<Figure size 600x400 with 1 Axes>"
      ]
     },
     "metadata": {},
     "output_type": "display_data"
    }
   ],
   "source": [
    "# Create bar chart\n",
    "plt.figure(figsize=(6, 4))\n",
    "bars = plt.bar(df['Name'], df['Value'], color='greenyellow')\n",
    "plt.xlabel('Name')\n",
    "plt.ylabel('Value')\n",
    "plt.title('Bar Chart of Values')\n",
    "plt.xticks(rotation=45, ha='right')\n",
    "\n",
    "# Add values on top of bars\n",
    "for bar in bars:\n",
    "    yval = bar.get_height()\n",
    "    plt.text(bar.get_x() + bar.get_width()/2, \n",
    "             yval + 0.05, f'{yval:.2f}', \n",
    "             ha='center', \n",
    "             va='bottom')\n",
    "plt.show()"
   ]
  },
  {
   "attachments": {},
   "cell_type": "markdown",
   "id": "cd71fca9",
   "metadata": {},
   "source": [
    "### Jupyter notebook --footer info-- (please always provide this at the end of each notebook)"
   ]
  },
  {
   "cell_type": "code",
   "execution_count": 9,
   "id": "23004277",
   "metadata": {},
   "outputs": [
    {
     "name": "stdout",
     "output_type": "stream",
     "text": [
      "-----------------------------------\n",
      "POSIX\n",
      "Linux | 6.5.0-1025-azure\n",
      "Datetime: 2024-11-10 12:32:06\n",
      "Python Version: 3.11.10\n",
      "-----------------------------------\n"
     ]
    }
   ],
   "source": [
    "import os\n",
    "import platform\n",
    "import socket\n",
    "from platform import python_version\n",
    "from datetime import datetime\n",
    "\n",
    "print('-----------------------------------')\n",
    "print(os.name.upper())\n",
    "print(platform.system(), '|', platform.release())\n",
    "print('Datetime:', datetime.now().strftime(\"%Y-%m-%d %H:%M:%S\"))\n",
    "print('Python Version:', python_version())\n",
    "print('-----------------------------------')"
   ]
  },
  {
   "cell_type": "code",
   "execution_count": null,
   "id": "c8c61303",
   "metadata": {},
   "outputs": [],
   "source": []
  }
 ],
 "metadata": {
  "kernelspec": {
   "display_name": "Python 3",
   "language": "python",
   "name": "python3"
  },
  "language_info": {
   "codemirror_mode": {
    "name": "ipython",
    "version": 3
   },
   "file_extension": ".py",
   "mimetype": "text/x-python",
   "name": "python",
   "nbconvert_exporter": "python",
   "pygments_lexer": "ipython3",
   "version": "3.11.10"
  },
  "toc": {
   "base_numbering": 1,
   "nav_menu": {},
   "number_sections": true,
   "sideBar": true,
   "skip_h1_title": false,
   "title_cell": "Table of Contents",
   "title_sidebar": "Contents",
   "toc_cell": false,
   "toc_position": {},
   "toc_section_display": true,
   "toc_window_display": false
  }
 },
 "nbformat": 4,
 "nbformat_minor": 5
}
