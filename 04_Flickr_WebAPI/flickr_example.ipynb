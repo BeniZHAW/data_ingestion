{
 "cells": [
  {
   "cell_type": "markdown",
   "id": "viral-receipt",
   "metadata": {},
   "source": [
    "# Flickr REST API: Get information from photos, get and plot photos"
   ]
  },
  {
   "cell_type": "markdown",
   "id": "db7e9667",
   "metadata": {},
   "source": [
    "## Libraries and Settings"
   ]
  },
  {
   "cell_type": "code",
   "execution_count": 5,
   "id": "1f2918c5",
   "metadata": {},
   "outputs": [
    {
     "name": "stdout",
     "output_type": "stream",
     "text": [
      "Current working directory: /workspaces/data_ingestion/04_Flickr_WebAPI\n"
     ]
    }
   ],
   "source": [
    "# Libraries\n",
    "import os\n",
    "import json\n",
    "import random\n",
    "import fnmatch\n",
    "import pandas as pd\n",
    "import urllib.request\n",
    "from flickrapi import FlickrAPI\n",
    "import matplotlib.pyplot as plt\n",
    "import matplotlib.image as mpimg\n",
    "\n",
    "# Keys for flickr API\n",
    "try:\n",
    "    with open('credentials.json', 'r') as file:\n",
    "        credentials = json.load(file)\n",
    "\n",
    "    # Keys for flickr API\n",
    "    FLICKR_PUBLIC = credentials['FLICKR_PUBLIC']\n",
    "    FLICKR_SECRET = credentials['FLICKR_SECRET']\n",
    "except:\n",
    "    print('Please provide your credentials in credentials.json file!')\n",
    "\n",
    "# Settings\n",
    "import warnings\n",
    "warnings.filterwarnings(\"ignore\")\n",
    "\n",
    "# Current working directory\n",
    "print(f'Current working directory: {os.getcwd()}')"
   ]
  },
  {
   "cell_type": "markdown",
   "id": "b4120bb9",
   "metadata": {},
   "source": [
    "## Define photo topic and get photos"
   ]
  },
  {
   "cell_type": "code",
   "execution_count": 6,
   "id": "detailed-criticism",
   "metadata": {},
   "outputs": [
    {
     "ename": "FlickrError",
     "evalue": "Error: 100: Invalid API Key (Key has expired)",
     "output_type": "error",
     "traceback": [
      "\u001b[0;31m---------------------------------------------------------------------------\u001b[0m",
      "\u001b[0;31mFlickrError\u001b[0m                               Traceback (most recent call last)",
      "Cell \u001b[0;32mIn[6], line 6\u001b[0m\n\u001b[1;32m      3\u001b[0m extras \u001b[38;5;241m=\u001b[39m \u001b[38;5;124m'\u001b[39m\u001b[38;5;124murl_sq,url_t,url_s,url_q,url_m,url_n,url_z,url_c,url_l,url_o\u001b[39m\u001b[38;5;124m'\u001b[39m\n\u001b[1;32m      5\u001b[0m \u001b[38;5;66;03m# Get information about photos using the flickr API\u001b[39;00m\n\u001b[0;32m----> 6\u001b[0m cont \u001b[38;5;241m=\u001b[39m \u001b[43mflickr\u001b[49m\u001b[38;5;241;43m.\u001b[39;49m\u001b[43mphotos\u001b[49m\u001b[38;5;241;43m.\u001b[39;49m\u001b[43msearch\u001b[49m\u001b[43m(\u001b[49m\u001b[43mtext\u001b[49m\u001b[38;5;241;43m=\u001b[39;49m\u001b[38;5;124;43m'\u001b[39;49m\u001b[38;5;124;43mbutterflies\u001b[39;49m\u001b[38;5;124;43m'\u001b[39;49m\u001b[43m,\u001b[49m\u001b[43m \u001b[49m\u001b[43mper_page\u001b[49m\u001b[38;5;241;43m=\u001b[39;49m\u001b[38;5;241;43m10\u001b[39;49m\u001b[43m,\u001b[49m\u001b[43m \u001b[49m\u001b[43mextras\u001b[49m\u001b[38;5;241;43m=\u001b[39;49m\u001b[43mextras\u001b[49m\u001b[43m)\u001b[49m\n\u001b[1;32m      7\u001b[0m photos \u001b[38;5;241m=\u001b[39m cont[\u001b[38;5;124m'\u001b[39m\u001b[38;5;124mphotos\u001b[39m\u001b[38;5;124m'\u001b[39m]\n\u001b[1;32m      9\u001b[0m \u001b[38;5;66;03m# Object type\u001b[39;00m\n",
      "File \u001b[0;32m~/.local/lib/python3.11/site-packages/flickrapi/call_builder.py:38\u001b[0m, in \u001b[0;36mCallBuilder.__call__\u001b[0;34m(self, **kwargs)\u001b[0m\n\u001b[1;32m     37\u001b[0m \u001b[38;5;28;01mdef\u001b[39;00m \u001b[38;5;21m__call__\u001b[39m(\u001b[38;5;28mself\u001b[39m, \u001b[38;5;241m*\u001b[39m\u001b[38;5;241m*\u001b[39mkwargs):\n\u001b[0;32m---> 38\u001b[0m     \u001b[38;5;28;01mreturn\u001b[39;00m \u001b[38;5;28;43mself\u001b[39;49m\u001b[38;5;241;43m.\u001b[39;49m\u001b[43mflickrapi_object\u001b[49m\u001b[38;5;241;43m.\u001b[39;49m\u001b[43mdo_flickr_call\u001b[49m\u001b[43m(\u001b[49m\u001b[38;5;28;43mself\u001b[39;49m\u001b[38;5;241;43m.\u001b[39;49m\u001b[43mmethod_name\u001b[49m\u001b[43m,\u001b[49m\u001b[43m \u001b[49m\u001b[38;5;241;43m*\u001b[39;49m\u001b[38;5;241;43m*\u001b[39;49m\u001b[43mkwargs\u001b[49m\u001b[43m)\u001b[49m\n",
      "File \u001b[0;32m~/.local/lib/python3.11/site-packages/flickrapi/core.py:334\u001b[0m, in \u001b[0;36mFlickrAPI.do_flickr_call\u001b[0;34m(self, _method_name, timeout, **kwargs)\u001b[0m\n\u001b[1;32m    330\u001b[0m params \u001b[38;5;241m=\u001b[39m \u001b[38;5;28mself\u001b[39m\u001b[38;5;241m.\u001b[39m_supply_defaults(params, defaults)\n\u001b[1;32m    332\u001b[0m LOG\u001b[38;5;241m.\u001b[39minfo(\u001b[38;5;124m'\u001b[39m\u001b[38;5;124mCalling \u001b[39m\u001b[38;5;132;01m%s\u001b[39;00m\u001b[38;5;124m'\u001b[39m, defaults)\n\u001b[0;32m--> 334\u001b[0m \u001b[38;5;28;01mreturn\u001b[39;00m \u001b[38;5;28;43mself\u001b[39;49m\u001b[38;5;241;43m.\u001b[39;49m\u001b[43m_wrap_in_parser\u001b[49m\u001b[43m(\u001b[49m\u001b[38;5;28;43mself\u001b[39;49m\u001b[38;5;241;43m.\u001b[39;49m\u001b[43m_flickr_call\u001b[49m\u001b[43m,\u001b[49m\n\u001b[1;32m    335\u001b[0m \u001b[43m                            \u001b[49m\u001b[43mparse_format\u001b[49m\u001b[38;5;241;43m=\u001b[39;49m\u001b[43mparams\u001b[49m\u001b[43m[\u001b[49m\u001b[38;5;124;43m'\u001b[39;49m\u001b[38;5;124;43mformat\u001b[39;49m\u001b[38;5;124;43m'\u001b[39;49m\u001b[43m]\u001b[49m\u001b[43m,\u001b[49m\n\u001b[1;32m    336\u001b[0m \u001b[43m                            \u001b[49m\u001b[43mtimeout\u001b[49m\u001b[38;5;241;43m=\u001b[39;49m\u001b[43mtimeout\u001b[49m\u001b[43m,\u001b[49m\n\u001b[1;32m    337\u001b[0m \u001b[43m                            \u001b[49m\u001b[38;5;241;43m*\u001b[39;49m\u001b[38;5;241;43m*\u001b[39;49m\u001b[43mparams\u001b[49m\u001b[43m)\u001b[49m\n",
      "File \u001b[0;32m~/.local/lib/python3.11/site-packages/flickrapi/core.py:407\u001b[0m, in \u001b[0;36mFlickrAPI._wrap_in_parser\u001b[0;34m(self, wrapped_method, parse_format, *args, **kwargs)\u001b[0m\n\u001b[1;32m    405\u001b[0m \u001b[38;5;66;03m# Return the parsed data\u001b[39;00m\n\u001b[1;32m    406\u001b[0m parser \u001b[38;5;241m=\u001b[39m rest_parsers[parse_format][\u001b[38;5;241m0\u001b[39m]\n\u001b[0;32m--> 407\u001b[0m \u001b[38;5;28;01mreturn\u001b[39;00m \u001b[43mparser\u001b[49m\u001b[43m(\u001b[49m\u001b[38;5;28;43mself\u001b[39;49m\u001b[43m,\u001b[49m\u001b[43m \u001b[49m\u001b[43mdata\u001b[49m\u001b[43m)\u001b[49m\n",
      "File \u001b[0;32m~/.local/lib/python3.11/site-packages/flickrapi/core.py:261\u001b[0m, in \u001b[0;36mFlickrAPI.parse_json\u001b[0;34m(self, json_string)\u001b[0m\n\u001b[1;32m    259\u001b[0m parsed \u001b[38;5;241m=\u001b[39m json\u001b[38;5;241m.\u001b[39mloads(json_string)\n\u001b[1;32m    260\u001b[0m \u001b[38;5;28;01mif\u001b[39;00m parsed\u001b[38;5;241m.\u001b[39mget(\u001b[38;5;124m'\u001b[39m\u001b[38;5;124mstat\u001b[39m\u001b[38;5;124m'\u001b[39m, \u001b[38;5;124m'\u001b[39m\u001b[38;5;124m'\u001b[39m) \u001b[38;5;241m==\u001b[39m \u001b[38;5;124m'\u001b[39m\u001b[38;5;124mfail\u001b[39m\u001b[38;5;124m'\u001b[39m:\n\u001b[0;32m--> 261\u001b[0m     \u001b[38;5;28;01mraise\u001b[39;00m FlickrError(six\u001b[38;5;241m.\u001b[39mu(\u001b[38;5;124m'\u001b[39m\u001b[38;5;124mError: \u001b[39m\u001b[38;5;132;01m%(code)s\u001b[39;00m\u001b[38;5;124m: \u001b[39m\u001b[38;5;132;01m%(message)s\u001b[39;00m\u001b[38;5;124m'\u001b[39m) \u001b[38;5;241m%\u001b[39m parsed,\n\u001b[1;32m    262\u001b[0m                       code\u001b[38;5;241m=\u001b[39mparsed[\u001b[38;5;124m'\u001b[39m\u001b[38;5;124mcode\u001b[39m\u001b[38;5;124m'\u001b[39m])\n\u001b[1;32m    263\u001b[0m \u001b[38;5;28;01mreturn\u001b[39;00m parsed\n",
      "\u001b[0;31mFlickrError\u001b[0m: Error: 100: Invalid API Key (Key has expired)"
     ]
    }
   ],
   "source": [
    "# Settings (extras = different resolution of photos)\n",
    "flickr = FlickrAPI(FLICKR_PUBLIC, FLICKR_SECRET, format='parsed-json')\n",
    "extras = 'url_sq,url_t,url_s,url_q,url_m,url_n,url_z,url_c,url_l,url_o'\n",
    "\n",
    "# Get information about photos using the flickr API\n",
    "cont = flickr.photos.search(text='butterflies', per_page=10, extras=extras)\n",
    "photos = cont['photos']\n",
    "\n",
    "# Object type\n",
    "print(type(photos))\n",
    "\n",
    "# Print keys of dictionary\n",
    "print(photos.keys())\n",
    "\n",
    "# Print values\n",
    "df = pd.DataFrame.from_dict(photos)\n",
    "df"
   ]
  },
  {
   "cell_type": "markdown",
   "id": "c8736941",
   "metadata": {},
   "source": [
    "## Derive information about the first photo from the dictionary"
   ]
  },
  {
   "cell_type": "code",
   "execution_count": 4,
   "id": "disturbed-marketing",
   "metadata": {},
   "outputs": [
    {
     "ename": "NameError",
     "evalue": "name 'photos' is not defined",
     "output_type": "error",
     "traceback": [
      "\u001b[0;31m---------------------------------------------------------------------------\u001b[0m",
      "\u001b[0;31mNameError\u001b[0m                                 Traceback (most recent call last)",
      "Cell \u001b[0;32mIn[4], line 2\u001b[0m\n\u001b[1;32m      1\u001b[0m \u001b[38;5;66;03m# Derive information about the first photo from the dictionary\u001b[39;00m\n\u001b[0;32m----> 2\u001b[0m photo_01 \u001b[38;5;241m=\u001b[39m \u001b[43mphotos\u001b[49m[\u001b[38;5;124m\"\u001b[39m\u001b[38;5;124mphoto\u001b[39m\u001b[38;5;124m\"\u001b[39m][random\u001b[38;5;241m.\u001b[39mrandint(\u001b[38;5;241m0\u001b[39m,\u001b[38;5;241m9\u001b[39m)]\n\u001b[1;32m      4\u001b[0m \u001b[38;5;28;01mtry\u001b[39;00m:\n\u001b[1;32m      5\u001b[0m     \u001b[38;5;28;01mfrom\u001b[39;00m \u001b[38;5;21;01mpprint\u001b[39;00m \u001b[38;5;28;01mimport\u001b[39;00m pprint\n",
      "\u001b[0;31mNameError\u001b[0m: name 'photos' is not defined"
     ]
    }
   ],
   "source": [
    "# Derive information about the first photo from the dictionary\n",
    "photo_01 = photos[\"photo\"][random.randint(0,9)]\n",
    "\n",
    "try:\n",
    "    from pprint import pprint\n",
    "    pprint(photo_01)\n",
    "except:\n",
    "    print(photo_01)"
   ]
  },
  {
   "cell_type": "markdown",
   "id": "611bd06f",
   "metadata": {},
   "source": [
    "## Show url of first photo in the list"
   ]
  },
  {
   "cell_type": "code",
   "execution_count": null,
   "id": "differential-sally",
   "metadata": {},
   "outputs": [],
   "source": [
    "# Photo url\n",
    "url = photo_01[\"url_s\"]\n",
    "url"
   ]
  },
  {
   "cell_type": "markdown",
   "id": "5e02e02f",
   "metadata": {},
   "source": [
    "## Download single photo"
   ]
  },
  {
   "cell_type": "code",
   "execution_count": null,
   "id": "hourly-kazakhstan",
   "metadata": {},
   "outputs": [],
   "source": [
    "# Download single photo\n",
    "urllib.request.urlretrieve(url, 'photo_01.jpg')"
   ]
  },
  {
   "cell_type": "markdown",
   "id": "4afd27ba",
   "metadata": {},
   "source": [
    "## Plot single photo"
   ]
  },
  {
   "cell_type": "code",
   "execution_count": null,
   "id": "sought-conversion",
   "metadata": {},
   "outputs": [],
   "source": [
    "# Plot photo\n",
    "img = mpimg.imread('photo_01.jpg')\n",
    "plt.figure(figsize=(6,6))\n",
    "imgplot = plt.imshow(img)"
   ]
  },
  {
   "attachments": {},
   "cell_type": "markdown",
   "id": "f58083e4",
   "metadata": {},
   "source": [
    "### Jupyter notebook --footer info-- (please always provide this at the end of each notebook)"
   ]
  },
  {
   "cell_type": "code",
   "execution_count": null,
   "id": "a98db001",
   "metadata": {},
   "outputs": [],
   "source": [
    "import os\n",
    "import platform\n",
    "import socket\n",
    "from platform import python_version\n",
    "from datetime import datetime\n",
    "\n",
    "print('-----------------------------------')\n",
    "print(os.name.upper())\n",
    "print(platform.system(), '|', platform.release())\n",
    "print('Datetime:', datetime.now().strftime(\"%Y-%m-%d %H:%M:%S\"))\n",
    "print('Python Version:', python_version())\n",
    "print('-----------------------------------')"
   ]
  }
 ],
 "metadata": {
  "kernelspec": {
   "display_name": "Python 3",
   "language": "python",
   "name": "python3"
  },
  "language_info": {
   "codemirror_mode": {
    "name": "ipython",
    "version": 3
   },
   "file_extension": ".py",
   "mimetype": "text/x-python",
   "name": "python",
   "nbconvert_exporter": "python",
   "pygments_lexer": "ipython3",
   "version": "3.11.10"
  }
 },
 "nbformat": 4,
 "nbformat_minor": 5
}
